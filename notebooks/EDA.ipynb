{
 "cells": [
  {
   "cell_type": "code",
   "execution_count": 4,
   "metadata": {},
   "outputs": [
    {
     "data": {
      "text/html": [
       "<div>\n",
       "<style scoped>\n",
       "    .dataframe tbody tr th:only-of-type {\n",
       "        vertical-align: middle;\n",
       "    }\n",
       "\n",
       "    .dataframe tbody tr th {\n",
       "        vertical-align: top;\n",
       "    }\n",
       "\n",
       "    .dataframe thead th {\n",
       "        text-align: right;\n",
       "    }\n",
       "</style>\n",
       "<table border=\"1\" class=\"dataframe\">\n",
       "  <thead>\n",
       "    <tr style=\"text-align: right;\">\n",
       "      <th></th>\n",
       "      <th>period</th>\n",
       "      <th>value</th>\n",
       "    </tr>\n",
       "  </thead>\n",
       "  <tbody>\n",
       "    <tr>\n",
       "      <th>0</th>\n",
       "      <td>2024-11-01T00</td>\n",
       "      <td>3094</td>\n",
       "    </tr>\n",
       "    <tr>\n",
       "      <th>1</th>\n",
       "      <td>2024-10-31T23</td>\n",
       "      <td>3233</td>\n",
       "    </tr>\n",
       "    <tr>\n",
       "      <th>2</th>\n",
       "      <td>2024-10-31T22</td>\n",
       "      <td>3235</td>\n",
       "    </tr>\n",
       "    <tr>\n",
       "      <th>3</th>\n",
       "      <td>2024-10-31T21</td>\n",
       "      <td>3045</td>\n",
       "    </tr>\n",
       "    <tr>\n",
       "      <th>4</th>\n",
       "      <td>2024-10-31T20</td>\n",
       "      <td>2985</td>\n",
       "    </tr>\n",
       "  </tbody>\n",
       "</table>\n",
       "</div>"
      ],
      "text/plain": [
       "          period  value\n",
       "0  2024-11-01T00   3094\n",
       "1  2024-10-31T23   3233\n",
       "2  2024-10-31T22   3235\n",
       "3  2024-10-31T21   3045\n",
       "4  2024-10-31T20   2985"
      ]
     },
     "execution_count": 4,
     "metadata": {},
     "output_type": "execute_result"
    }
   ],
   "source": [
    "import pandas as pd\n",
    "df = pd.read_csv(\"/home/karthikponna/kittu/Energy consumption prediction project/Energy-Consumption-Predictor-MLops/dataset/energy_consumption.csv\")\n",
    "df.head()"
   ]
  },
  {
   "cell_type": "code",
   "execution_count": 5,
   "metadata": {},
   "outputs": [
    {
     "name": "stdout",
     "output_type": "stream",
     "text": [
      "                  period  value  year  month  day      time  hours  minutes  \\\n",
      "0    2024-11-01 00:00:00   3094  2024     11    1  00:00:00      0        0   \n",
      "1    2024-10-31 23:00:00   3233  2024     10   31  23:00:00     23        0   \n",
      "2    2024-10-31 22:00:00   3235  2024     10   31  22:00:00     22        0   \n",
      "3    2024-10-31 21:00:00   3045  2024     10   31  21:00:00     21        0   \n",
      "4    2024-10-31 20:00:00   2985  2024     10   31  20:00:00     20        0   \n",
      "...                  ...    ...   ...    ...  ...       ...    ...      ...   \n",
      "8780 2023-11-01 04:00:00   2448  2023     11    1  04:00:00      4        0   \n",
      "8781 2023-11-01 03:00:00   2729  2023     11    1  03:00:00      3        0   \n",
      "8782 2023-11-01 02:00:00   3061  2023     11    1  02:00:00      2        0   \n",
      "8783 2023-11-01 01:00:00   3140  2023     11    1  01:00:00      1        0   \n",
      "8784 2023-11-01 00:00:00   3361  2023     11    1  00:00:00      0        0   \n",
      "\n",
      "      seconds day_of_week  \n",
      "0           0      Friday  \n",
      "1           0    Thursday  \n",
      "2           0    Thursday  \n",
      "3           0    Thursday  \n",
      "4           0    Thursday  \n",
      "...       ...         ...  \n",
      "8780        0   Wednesday  \n",
      "8781        0   Wednesday  \n",
      "8782        0   Wednesday  \n",
      "8783        0   Wednesday  \n",
      "8784        0   Wednesday  \n",
      "\n",
      "[8785 rows x 10 columns]\n"
     ]
    }
   ],
   "source": [
    "df['period'] = pd.to_datetime(df['period'], format='%Y-%m-%dT%H')\n",
    "\n",
    "# Extract components from the 'period' column\n",
    "df['year'] = df['period'].dt.year\n",
    "df['month'] = df['period'].dt.month\n",
    "df['day'] = df['period'].dt.day\n",
    "df['time'] = df['period'].dt.time\n",
    "df['hours'] = df['period'].dt.hour\n",
    "df['minutes'] = df['period'].dt.minute\n",
    "df['seconds'] = df['period'].dt.second\n",
    "df['day_of_week'] = df['period'].dt.day_name()  # Name of the day of the week (e.g., Monday)\n",
    "\n",
    "# Display the updated DataFrame\n",
    "print(df)"
   ]
  },
  {
   "cell_type": "markdown",
   "metadata": {},
   "source": []
  },
  {
   "cell_type": "markdown",
   "metadata": {},
   "source": []
  },
  {
   "cell_type": "markdown",
   "metadata": {},
   "source": []
  }
 ],
 "metadata": {
  "kernelspec": {
   "display_name": "energy",
   "language": "python",
   "name": "python3"
  },
  "language_info": {
   "codemirror_mode": {
    "name": "ipython",
    "version": 3
   },
   "file_extension": ".py",
   "mimetype": "text/x-python",
   "name": "python",
   "nbconvert_exporter": "python",
   "pygments_lexer": "ipython3",
   "version": "3.12.3"
  }
 },
 "nbformat": 4,
 "nbformat_minor": 2
}
